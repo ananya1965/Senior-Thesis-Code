{
 "cells": [
  {
   "cell_type": "code",
   "execution_count": null,
   "metadata": {},
   "outputs": [],
   "source": [
    "# Import packages\n",
    "import nltk\n",
    "import csv\n",
    "import numpy as np\n",
    "import pandas as pd"
   ]
  },
  {
   "cell_type": "code",
   "execution_count": null,
   "metadata": {},
   "outputs": [],
   "source": [
    "# Import WordNet dataset\n",
    "from nltk.corpus import wordnet as wn"
   ]
  },
  {
   "cell_type": "code",
   "execution_count": null,
   "metadata": {},
   "outputs": [],
   "source": [
    "objects = []\n",
    "objectStrings = []\n",
    "objectSets = []"
   ]
  },
  {
   "cell_type": "code",
   "execution_count": null,
   "metadata": {},
   "outputs": [],
   "source": [
    "# Array of Target Objects\n",
    "objects = ['baby', 'book', 'bottle', 'cat', 'dog', 'hand', 'shoe', 'spoon']\n",
    "\n",
    "# WordNet Senses Corresponding to the target objects (hand coded by Ananya Mittal)\n",
    "objectStrings = ['baby.n.01', 'book.n.01', 'bottle.n.01', 'cat.n.01', \n",
    "                 'dog.n.01',  'hand.n.01', 'shoe.n.01',   'spoon.n.01']\n",
    "\n",
    "# Get synsets for target objects\n",
    "for o in objectStrings:\n",
    "    objectSets.append(wn.synset(o))"
   ]
  },
  {
   "cell_type": "code",
   "execution_count": null,
   "metadata": {},
   "outputs": [],
   "source": [
    "# Create DFs to store similarity ratings (OBJECTS x OBJECTS)\n",
    "similarity_df_PL = pd.DataFrame(0.0, index=range(len(objects)), columns=range(len(objects)))\n",
    "similarity_df_LCH = pd.DataFrame(0.0, index=range(len(objects)), columns=range(len(objects)))\n",
    "similarity_df_WUP = pd.DataFrame(0.0, index=range(len(objects)), columns=range(len(objects)))"
   ]
  },
  {
   "cell_type": "code",
   "execution_count": null,
   "metadata": {},
   "outputs": [],
   "source": [
    "# Helper function: check if a given word has synsets\n",
    "def has_synset(st):\n",
    "    if st is None: return False\n",
    "    else: return True"
   ]
  },
  {
   "cell_type": "code",
   "execution_count": null,
   "metadata": {},
   "outputs": [],
   "source": [
    "# Populate similarity DFs using different measures of similarity\n",
    "for o1 in range(len(objects)): \n",
    "    for o in range(len(objects)): \n",
    "        if(has_synset(objectSets[o1])==True):\n",
    "            similarity_df_PL[o][o1] = objectSets[o].path_similarity(objectSets[o1])\n",
    "            similarity_df_LCH[o][o1] = objectSets[o].lch_similarity(objectSets[o1])\n",
    "            similarity_df_WUP[o][o1] = objectSets[o].wup_similarity(objectSets[o1])\n",
    "        else:\n",
    "            similarity_df_PL[o][o1] = None\n",
    "            similarity_df_LCH[o][o1] = None\n",
    "            similarity_df_WUP[o][o1] = None"
   ]
  },
  {
   "cell_type": "code",
   "execution_count": null,
   "metadata": {},
   "outputs": [],
   "source": [
    "similarity_df_PL"
   ]
  },
  {
   "cell_type": "code",
   "execution_count": null,
   "metadata": {},
   "outputs": [],
   "source": [
    "# Format DFs\n",
    "similarity_df_PL.columns = ['BABY', 'BOOK', 'BOTTLE', 'CAT', 'DOG', 'HAND', 'SHOE', 'SPOON']\n",
    "similarity_df_LCH.columns = ['BABY', 'BOOK', 'BOTTLE', 'CAT', 'DOG', 'HAND', 'SHOE', 'SPOON']\n",
    "similarity_df_WUP.columns = ['BABY', 'BOOK', 'BOTTLE', 'CAT', 'DOG', 'HAND', 'SHOE', 'SPOON']\n",
    "\n",
    "similarity_df_PL['words'] = objects\n",
    "similarity_df_LCH['words'] = objects\n",
    "similarity_df_WUP['words'] = objects\n",
    "\n",
    "similarity_df_PL"
   ]
  },
  {
   "cell_type": "code",
   "execution_count": null,
   "metadata": {},
   "outputs": [],
   "source": [
    "# Save Object x Objects Models to CSVs\n",
    "similarity_df_PL.to_csv('path_similarity_OxO.csv')\n",
    "similarity_df_LCH.to_csv('lch_similarity_OxO.csv')\n",
    "similarity_df_WUP.to_csv('wup_similarity_OxO.csv')"
   ]
  }
 ],
 "metadata": {
  "kernelspec": {
   "display_name": "Python 3",
   "language": "python",
   "name": "python3"
  },
  "language_info": {
   "codemirror_mode": {
    "name": "ipython",
    "version": 3
   },
   "file_extension": ".py",
   "mimetype": "text/x-python",
   "name": "python",
   "nbconvert_exporter": "python",
   "pygments_lexer": "ipython3",
   "version": "3.7.1"
  }
 },
 "nbformat": 4,
 "nbformat_minor": 2
}
